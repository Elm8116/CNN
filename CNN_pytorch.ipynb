{
  "nbformat": 4,
  "nbformat_minor": 0,
  "metadata": {
    "colab": {
      "name": "CNN_pytorch.ipynb",
      "provenance": [],
      "collapsed_sections": [],
      "include_colab_link": true
    },
    "kernelspec": {
      "name": "python3",
      "display_name": "Python 3"
    }
  },
  "cells": [
    {
      "cell_type": "markdown",
      "metadata": {
        "id": "view-in-github",
        "colab_type": "text"
      },
      "source": [
        "<a href=\"https://colab.research.google.com/github/Elm8116/CNN/blob/master/CNN_pytorch.ipynb\" target=\"_parent\"><img src=\"https://colab.research.google.com/assets/colab-badge.svg\" alt=\"Open In Colab\"/></a>"
      ]
    },
    {
      "cell_type": "code",
      "metadata": {
        "id": "bIUz5e4H_MMw",
        "colab_type": "code",
        "colab": {}
      },
      "source": [
        "from __future__ import print_function\n",
        "import argparse\n",
        "import torch\n",
        "import torch.nn as nn\n",
        "import torch.nn.functional as F\n",
        "import torch.optim as optim\n",
        "from torchvision import datasets, transforms"
      ],
      "execution_count": 0,
      "outputs": []
    },
    {
      "cell_type": "code",
      "metadata": {
        "id": "08KPfkcdsP0W",
        "colab_type": "code",
        "colab": {}
      },
      "source": [
        ""
      ],
      "execution_count": 0,
      "outputs": []
    },
    {
      "cell_type": "code",
      "metadata": {
        "id": "lVE3WkfpCX6H",
        "colab_type": "code",
        "outputId": "83b96f4b-5ea9-4f77-c7b3-ffd361ecb35d",
        "colab": {
          "base_uri": "https://localhost:8080/",
          "height": 470
        }
      },
      "source": [
        "# Implementation of CNN/ConvNet Model using PyTorch (depicted in the picture above)\n",
        "\n",
        "class CNN(torch.nn.Module):\n",
        "\n",
        "    def __init__(self):\n",
        "        super(CNN, self).__init__()\n",
        "        # L1 ImgIn shape=(?, 28, 28, 1)\n",
        "        #    Conv     -> (?, 28, 28, 32)\n",
        "        #    Pool     -> (?, 14, 14, 32)\n",
        "        self.layer1 = torch.nn.Sequential(\n",
        "            torch.nn.Conv2d(1, 32, kernel_size=3, stride=1, padding=1),\n",
        "            torch.nn.ReLU(),\n",
        "            torch.nn.MaxPool2d(kernel_size=2, stride=2),\n",
        "            torch.nn.Dropout(p=0.2))\n",
        "        # L2 ImgIn shape=(?, 14, 14, 32)\n",
        "        #    Conv      ->(?, 14, 14, 64)\n",
        "        #    Pool      ->(?, 7, 7, 64)\n",
        "        self.layer2 = torch.nn.Sequential(\n",
        "            torch.nn.Conv2d(32, 64, kernel_size=3, stride=1, padding=1),\n",
        "            torch.nn.ReLU(),\n",
        "            torch.nn.MaxPool2d(kernel_size=2, stride=2),\n",
        "            torch.nn.Dropout(p=0.2))\n",
        "        # L3 ImgIn shape=(?, 7, 7, 64)\n",
        "        #    Conv      ->(?, 7, 7, 128)\n",
        "        #    Pool      ->(?, 4, 4, 128)\n",
        "        self.layer3 = torch.nn.Sequential(\n",
        "            torch.nn.Conv2d(64, 128, kernel_size=3, stride=1, padding=1),\n",
        "            torch.nn.ReLU(),\n",
        "            torch.nn.MaxPool2d(kernel_size=2, stride=2, padding=1),\n",
        "            torch.nn.Dropout(p=0.2))\n",
        "\n",
        "        # L4 FC 4x4x128 inputs -> 625 outputs\n",
        "        self.fc1 = torch.nn.Linear(4 * 4 * 128, 625, bias=True)\n",
        "        torch.nn.init.xavier_uniform_(self.fc1.weight)\n",
        "        self.layer4 = torch.nn.Sequential(\n",
        "            self.fc1,\n",
        "            torch.nn.ReLU(),\n",
        "            torch.nn.Dropout(p= 0.2))\n",
        "        # L5 Final FC 625 inputs -> 10 outputs\n",
        "        self.fc2 = torch.nn.Linear(625, 10, bias=True)\n",
        "        torch.nn.init.xavier_uniform_(self.fc2.weight) # initialize parameters\n",
        "\n",
        "    def forward(self, x):\n",
        "        out = self.layer1(x)\n",
        "        out = self.layer2(out)\n",
        "        out = self.layer3(out)\n",
        "        out = out.view(out.size(0), -1)   # Flatten them for FC\n",
        "        out = self.fc1(out)\n",
        "        out = self.fc2(out)\n",
        "        return out\n",
        "\n",
        "\n",
        "# instantiate CNN model\n",
        "model = CNN()\n",
        "model\n"
      ],
      "execution_count": 0,
      "outputs": [
        {
          "output_type": "execute_result",
          "data": {
            "text/plain": [
              "CNN(\n",
              "  (layer1): Sequential(\n",
              "    (0): Conv2d(1, 32, kernel_size=(3, 3), stride=(1, 1), padding=(1, 1))\n",
              "    (1): ReLU()\n",
              "    (2): MaxPool2d(kernel_size=2, stride=2, padding=0, dilation=1, ceil_mode=False)\n",
              "    (3): Dropout(p=0.2)\n",
              "  )\n",
              "  (layer2): Sequential(\n",
              "    (0): Conv2d(32, 64, kernel_size=(3, 3), stride=(1, 1), padding=(1, 1))\n",
              "    (1): ReLU()\n",
              "    (2): MaxPool2d(kernel_size=2, stride=2, padding=0, dilation=1, ceil_mode=False)\n",
              "    (3): Dropout(p=0.2)\n",
              "  )\n",
              "  (layer3): Sequential(\n",
              "    (0): Conv2d(64, 128, kernel_size=(3, 3), stride=(1, 1), padding=(1, 1))\n",
              "    (1): ReLU()\n",
              "    (2): MaxPool2d(kernel_size=2, stride=2, padding=1, dilation=1, ceil_mode=False)\n",
              "    (3): Dropout(p=0.2)\n",
              "  )\n",
              "  (fc1): Linear(in_features=2048, out_features=625, bias=True)\n",
              "  (layer4): Sequential(\n",
              "    (0): Linear(in_features=2048, out_features=625, bias=True)\n",
              "    (1): ReLU()\n",
              "    (2): Dropout(p=0.2)\n",
              "  )\n",
              "  (fc2): Linear(in_features=625, out_features=10, bias=True)\n",
              ")"
            ]
          },
          "metadata": {
            "tags": []
          },
          "execution_count": 23
        }
      ]
    },
    {
      "cell_type": "markdown",
      "metadata": {
        "id": "z0r8rpsUDaJf",
        "colab_type": "text"
      },
      "source": [
        "# MNIST dataset: Importing the training and testing sets.."
      ]
    },
    {
      "cell_type": "code",
      "metadata": {
        "id": "HKjso4eUDc2o",
        "colab_type": "code",
        "outputId": "0aa8f6b9-12a7-4ac1-c8c8-108f6e56065d",
        "colab": {
          "base_uri": "https://localhost:8080/",
          "height": 252
        }
      },
      "source": [
        "import torch\n",
        "import torchvision.datasets as dsets\n",
        "\n",
        "\n",
        "batch_size = 32\n",
        "\n",
        "# MNIST dataset\n",
        "mnist_train = dsets.MNIST(root='MNIST_data/',\n",
        "                          train=True,\n",
        "                          transform=transforms.ToTensor(),\n",
        "                          download=True)\n",
        "\n",
        "mnist_test = dsets.MNIST(root='MNIST_data/',\n",
        "                         train=False,\n",
        "                         transform=transforms.ToTensor(),\n",
        "                         download=True)\n",
        "\n",
        "# dataset loader\n",
        "data_loader = torch.utils.data.DataLoader(dataset=mnist_train,\n",
        "                                          batch_size=batch_size,\n",
        "                                          shuffle=True)"
      ],
      "execution_count": 0,
      "outputs": [
        {
          "output_type": "stream",
          "text": [
            "\r0it [00:00, ?it/s]"
          ],
          "name": "stderr"
        },
        {
          "output_type": "stream",
          "text": [
            "Downloading http://yann.lecun.com/exdb/mnist/train-images-idx3-ubyte.gz to MNIST_data/MNIST/raw/train-images-idx3-ubyte.gz\n"
          ],
          "name": "stdout"
        },
        {
          "output_type": "stream",
          "text": [
            "9920512it [00:02, 4856568.14it/s]                            \n"
          ],
          "name": "stderr"
        },
        {
          "output_type": "stream",
          "text": [
            "Extracting MNIST_data/MNIST/raw/train-images-idx3-ubyte.gz\n"
          ],
          "name": "stdout"
        },
        {
          "output_type": "stream",
          "text": [
            "  0%|          | 0/28881 [00:00<?, ?it/s]"
          ],
          "name": "stderr"
        },
        {
          "output_type": "stream",
          "text": [
            "Downloading http://yann.lecun.com/exdb/mnist/train-labels-idx1-ubyte.gz to MNIST_data/MNIST/raw/train-labels-idx1-ubyte.gz\n"
          ],
          "name": "stdout"
        },
        {
          "output_type": "stream",
          "text": [
            "32768it [00:00, 139351.41it/s]           \n",
            "  0%|          | 0/1648877 [00:00<?, ?it/s]"
          ],
          "name": "stderr"
        },
        {
          "output_type": "stream",
          "text": [
            "Extracting MNIST_data/MNIST/raw/train-labels-idx1-ubyte.gz\n",
            "Downloading http://yann.lecun.com/exdb/mnist/t10k-images-idx3-ubyte.gz to MNIST_data/MNIST/raw/t10k-images-idx3-ubyte.gz\n"
          ],
          "name": "stdout"
        },
        {
          "output_type": "stream",
          "text": [
            "1654784it [00:00, 2331726.08it/s]                            \n",
            "0it [00:00, ?it/s]"
          ],
          "name": "stderr"
        },
        {
          "output_type": "stream",
          "text": [
            "Extracting MNIST_data/MNIST/raw/t10k-images-idx3-ubyte.gz\n",
            "Downloading http://yann.lecun.com/exdb/mnist/t10k-labels-idx1-ubyte.gz to MNIST_data/MNIST/raw/t10k-labels-idx1-ubyte.gz\n"
          ],
          "name": "stdout"
        },
        {
          "output_type": "stream",
          "text": [
            "8192it [00:00, 53319.52it/s]            \n"
          ],
          "name": "stderr"
        },
        {
          "output_type": "stream",
          "text": [
            "Extracting MNIST_data/MNIST/raw/t10k-labels-idx1-ubyte.gz\n",
            "Processing...\n",
            "Done!\n"
          ],
          "name": "stdout"
        }
      ]
    },
    {
      "cell_type": "code",
      "metadata": {
        "id": "sCNQ70E4Dk7V",
        "colab_type": "code",
        "outputId": "8f7d2356-cd07-4896-9e4a-e032b14c529f",
        "colab": {
          "base_uri": "https://localhost:8080/",
          "height": 1000
        }
      },
      "source": [
        "print('Training the Deep Learning network ...')\n",
        "\n",
        "learning_rate = 0.001\n",
        "criterion = torch.nn.CrossEntropyLoss()    # Softmax is internally computed.\n",
        "optimizer = torch.optim.Adam(params=model.parameters(), lr=learning_rate)\n",
        "\n",
        "train_cost = []\n",
        "train_accu = []\n",
        "batch_size = 32\n",
        "training_epochs = 15\n",
        "total_batch = len(mnist_train) // batch_size\n",
        "\n",
        "print('Size of the training dataset is {}'.format(mnist_train.data.size()))\n",
        "print('Size of the testing dataset'.format(mnist_test.data.size()))\n",
        "print('Batch size is : {}'.format(batch_size))\n",
        "print('Total number of batches is : {0:2.0f}'.format(total_batch))\n",
        "print('\\nTotal number of epochs is : {0:2.0f}'.format(training_epochs))\n",
        "\n",
        "def compute_accuracy(Y_target, hypothesis):\n",
        "    Y_prediction = hypothesis.data.max(dim=1)[1]\n",
        "    accuracy = ((Y_prediction.data == Y_target.data).float().mean())    \n",
        "    return accuracy.item()\n",
        "\n",
        "\n",
        "for epoch in range(training_epochs):\n",
        "    avg_cost = 0\n",
        "    for i, (batch_X, batch_Y) in enumerate(data_loader):\n",
        "        \n",
        "        # Select a minibatch\n",
        "        X = Variable(batch_X)    # image is already size of (28x28), no reshape\n",
        "        Y = Variable(batch_Y)    # label is not one-hot encoded\n",
        "        \n",
        "        # initialization of the gradients\n",
        "        optimizer.zero_grad()\n",
        "        \n",
        "        # Forward propagation: compute the output\n",
        "        hypothesis = model(X)\n",
        "        \n",
        "        # Computation of the cost J\n",
        "        cost = criterion(hypothesis, Y) # <= compute the loss function\n",
        "        \n",
        "        # Backward propagation\n",
        "        cost.backward() # <= compute the gradients\n",
        "        \n",
        "        # Update parameters (weights and biais)\n",
        "        optimizer.step()\n",
        "        \n",
        "        # Print some performance to monitor the training\n",
        "        train_accu.append(compute_accuracy(Y, hypothesis))\n",
        "        train_cost.append(cost.item())   \n",
        "        if i % 200 == 0:\n",
        "            print(\"Epoch= {},\\t batch = {},\\t cost = {:2.4f},\\t accuracy = {}\".format(epoch+1, i, train_cost[-1], train_accu[-1]))\n",
        "        \n",
        "        avg_cost += cost.data / total_batch\n",
        "\n",
        "    print(\"[Epoch: {:>4}], averaged cost = {:>.9}\".format(epoch + 1, avg_cost.item()))\n",
        "\n",
        "\n",
        "print('Learning Finished!')"
      ],
      "execution_count": 0,
      "outputs": [
        {
          "output_type": "stream",
          "text": [
            "Training the Deep Learning network ...\n",
            "Size of the training dataset is torch.Size([60000, 28, 28])\n",
            "Size of the testing dataset\n",
            "Batch size is : 32\n",
            "Total number of batches is : 1875\n",
            "\n",
            "Total number of epochs is : 15\n",
            "Epoch= 1,\t batch = 0,\t cost = 2.3076,\t accuracy = 0.09375\n",
            "Epoch= 1,\t batch = 200,\t cost = 0.2983,\t accuracy = 0.875\n",
            "Epoch= 1,\t batch = 400,\t cost = 0.0200,\t accuracy = 1.0\n",
            "Epoch= 1,\t batch = 600,\t cost = 0.0498,\t accuracy = 0.96875\n",
            "Epoch= 1,\t batch = 800,\t cost = 0.2312,\t accuracy = 0.90625\n",
            "Epoch= 1,\t batch = 1000,\t cost = 0.0494,\t accuracy = 0.96875\n",
            "Epoch= 1,\t batch = 1200,\t cost = 0.0786,\t accuracy = 0.9375\n",
            "Epoch= 1,\t batch = 1400,\t cost = 0.1104,\t accuracy = 0.96875\n",
            "Epoch= 1,\t batch = 1600,\t cost = 0.0174,\t accuracy = 1.0\n",
            "Epoch= 1,\t batch = 1800,\t cost = 0.1221,\t accuracy = 0.96875\n",
            "[Epoch:    1], averaged cost = 0.166539505\n",
            "Epoch= 2,\t batch = 0,\t cost = 0.0258,\t accuracy = 1.0\n",
            "Epoch= 2,\t batch = 200,\t cost = 0.1098,\t accuracy = 0.9375\n",
            "Epoch= 2,\t batch = 400,\t cost = 0.0089,\t accuracy = 1.0\n",
            "Epoch= 2,\t batch = 600,\t cost = 0.0025,\t accuracy = 1.0\n",
            "Epoch= 2,\t batch = 800,\t cost = 0.2060,\t accuracy = 0.96875\n",
            "Epoch= 2,\t batch = 1000,\t cost = 0.0681,\t accuracy = 0.96875\n",
            "Epoch= 2,\t batch = 1200,\t cost = 0.0032,\t accuracy = 1.0\n",
            "Epoch= 2,\t batch = 1400,\t cost = 0.0515,\t accuracy = 0.96875\n",
            "Epoch= 2,\t batch = 1600,\t cost = 0.0047,\t accuracy = 1.0\n",
            "Epoch= 2,\t batch = 1800,\t cost = 0.0373,\t accuracy = 0.96875\n",
            "[Epoch:    2], averaged cost = 0.0662930906\n",
            "Epoch= 3,\t batch = 0,\t cost = 0.0747,\t accuracy = 0.96875\n",
            "Epoch= 3,\t batch = 200,\t cost = 0.1924,\t accuracy = 0.96875\n",
            "Epoch= 3,\t batch = 400,\t cost = 0.0007,\t accuracy = 1.0\n",
            "Epoch= 3,\t batch = 600,\t cost = 0.0030,\t accuracy = 1.0\n",
            "Epoch= 3,\t batch = 800,\t cost = 0.0675,\t accuracy = 0.96875\n",
            "Epoch= 3,\t batch = 1000,\t cost = 0.0553,\t accuracy = 0.96875\n",
            "Epoch= 3,\t batch = 1200,\t cost = 0.0089,\t accuracy = 1.0\n",
            "Epoch= 3,\t batch = 1400,\t cost = 0.0359,\t accuracy = 0.96875\n",
            "Epoch= 3,\t batch = 1600,\t cost = 0.0024,\t accuracy = 1.0\n",
            "Epoch= 3,\t batch = 1800,\t cost = 0.2227,\t accuracy = 0.90625\n",
            "[Epoch:    3], averaged cost = 0.0566706471\n",
            "Epoch= 4,\t batch = 0,\t cost = 0.0823,\t accuracy = 0.96875\n",
            "Epoch= 4,\t batch = 200,\t cost = 0.0039,\t accuracy = 1.0\n",
            "Epoch= 4,\t batch = 400,\t cost = 0.0302,\t accuracy = 0.96875\n",
            "Epoch= 4,\t batch = 600,\t cost = 0.0022,\t accuracy = 1.0\n",
            "Epoch= 4,\t batch = 800,\t cost = 0.0028,\t accuracy = 1.0\n",
            "Epoch= 4,\t batch = 1000,\t cost = 0.0086,\t accuracy = 1.0\n",
            "Epoch= 4,\t batch = 1200,\t cost = 0.0181,\t accuracy = 1.0\n",
            "Epoch= 4,\t batch = 1400,\t cost = 0.0083,\t accuracy = 1.0\n",
            "Epoch= 4,\t batch = 1600,\t cost = 0.0155,\t accuracy = 1.0\n",
            "Epoch= 4,\t batch = 1800,\t cost = 0.0080,\t accuracy = 1.0\n",
            "[Epoch:    4], averaged cost = 0.0501839258\n",
            "Epoch= 5,\t batch = 0,\t cost = 0.0088,\t accuracy = 1.0\n",
            "Epoch= 5,\t batch = 200,\t cost = 0.0456,\t accuracy = 0.96875\n",
            "Epoch= 5,\t batch = 400,\t cost = 0.0567,\t accuracy = 1.0\n",
            "Epoch= 5,\t batch = 600,\t cost = 0.1531,\t accuracy = 0.96875\n",
            "Epoch= 5,\t batch = 800,\t cost = 0.0311,\t accuracy = 0.96875\n",
            "Epoch= 5,\t batch = 1000,\t cost = 0.0214,\t accuracy = 1.0\n",
            "Epoch= 5,\t batch = 1200,\t cost = 0.0283,\t accuracy = 1.0\n",
            "Epoch= 5,\t batch = 1400,\t cost = 0.0371,\t accuracy = 0.96875\n",
            "Epoch= 5,\t batch = 1600,\t cost = 0.0102,\t accuracy = 1.0\n",
            "Epoch= 5,\t batch = 1800,\t cost = 0.0405,\t accuracy = 0.96875\n",
            "[Epoch:    5], averaged cost = 0.0453058034\n",
            "Epoch= 6,\t batch = 0,\t cost = 0.0215,\t accuracy = 1.0\n",
            "Epoch= 6,\t batch = 200,\t cost = 0.0004,\t accuracy = 1.0\n",
            "Epoch= 6,\t batch = 400,\t cost = 0.0104,\t accuracy = 1.0\n",
            "Epoch= 6,\t batch = 600,\t cost = 0.0228,\t accuracy = 1.0\n",
            "Epoch= 6,\t batch = 800,\t cost = 0.0172,\t accuracy = 1.0\n",
            "Epoch= 6,\t batch = 1000,\t cost = 0.0003,\t accuracy = 1.0\n",
            "Epoch= 6,\t batch = 1200,\t cost = 0.0729,\t accuracy = 0.96875\n",
            "Epoch= 6,\t batch = 1400,\t cost = 0.0027,\t accuracy = 1.0\n",
            "Epoch= 6,\t batch = 1600,\t cost = 0.1032,\t accuracy = 0.96875\n",
            "Epoch= 6,\t batch = 1800,\t cost = 0.1818,\t accuracy = 0.9375\n",
            "[Epoch:    6], averaged cost = 0.042796731\n",
            "Epoch= 7,\t batch = 0,\t cost = 0.0032,\t accuracy = 1.0\n",
            "Epoch= 7,\t batch = 200,\t cost = 0.0010,\t accuracy = 1.0\n",
            "Epoch= 7,\t batch = 400,\t cost = 0.0123,\t accuracy = 1.0\n",
            "Epoch= 7,\t batch = 600,\t cost = 0.0104,\t accuracy = 1.0\n",
            "Epoch= 7,\t batch = 800,\t cost = 0.0200,\t accuracy = 1.0\n",
            "Epoch= 7,\t batch = 1000,\t cost = 0.0007,\t accuracy = 1.0\n",
            "Epoch= 7,\t batch = 1200,\t cost = 0.0130,\t accuracy = 1.0\n",
            "Epoch= 7,\t batch = 1400,\t cost = 0.0117,\t accuracy = 1.0\n",
            "Epoch= 7,\t batch = 1600,\t cost = 0.0073,\t accuracy = 1.0\n",
            "Epoch= 7,\t batch = 1800,\t cost = 0.0475,\t accuracy = 0.96875\n",
            "[Epoch:    7], averaged cost = 0.0403266288\n",
            "Epoch= 8,\t batch = 0,\t cost = 0.0170,\t accuracy = 1.0\n",
            "Epoch= 8,\t batch = 200,\t cost = 0.0023,\t accuracy = 1.0\n",
            "Epoch= 8,\t batch = 400,\t cost = 0.0042,\t accuracy = 1.0\n",
            "Epoch= 8,\t batch = 600,\t cost = 0.0046,\t accuracy = 1.0\n",
            "Epoch= 8,\t batch = 800,\t cost = 0.0015,\t accuracy = 1.0\n",
            "Epoch= 8,\t batch = 1000,\t cost = 0.0581,\t accuracy = 0.9375\n",
            "Epoch= 8,\t batch = 1200,\t cost = 0.0001,\t accuracy = 1.0\n",
            "Epoch= 8,\t batch = 1400,\t cost = 0.0165,\t accuracy = 1.0\n",
            "Epoch= 8,\t batch = 1600,\t cost = 0.1371,\t accuracy = 0.96875\n",
            "Epoch= 8,\t batch = 1800,\t cost = 0.0064,\t accuracy = 1.0\n",
            "[Epoch:    8], averaged cost = 0.0375541002\n",
            "Epoch= 9,\t batch = 0,\t cost = 0.0003,\t accuracy = 1.0\n",
            "Epoch= 9,\t batch = 200,\t cost = 0.0000,\t accuracy = 1.0\n",
            "Epoch= 9,\t batch = 400,\t cost = 0.1700,\t accuracy = 0.96875\n",
            "Epoch= 9,\t batch = 600,\t cost = 0.0005,\t accuracy = 1.0\n",
            "Epoch= 9,\t batch = 800,\t cost = 0.0014,\t accuracy = 1.0\n",
            "Epoch= 9,\t batch = 1000,\t cost = 0.0005,\t accuracy = 1.0\n",
            "Epoch= 9,\t batch = 1200,\t cost = 0.0080,\t accuracy = 1.0\n",
            "Epoch= 9,\t batch = 1400,\t cost = 0.0095,\t accuracy = 1.0\n",
            "Epoch= 9,\t batch = 1600,\t cost = 0.0441,\t accuracy = 0.96875\n",
            "Epoch= 9,\t batch = 1800,\t cost = 0.0854,\t accuracy = 0.96875\n",
            "[Epoch:    9], averaged cost = 0.0352688134\n",
            "Epoch= 10,\t batch = 0,\t cost = 0.0051,\t accuracy = 1.0\n",
            "Epoch= 10,\t batch = 200,\t cost = 0.0085,\t accuracy = 1.0\n",
            "Epoch= 10,\t batch = 400,\t cost = 0.0002,\t accuracy = 1.0\n",
            "Epoch= 10,\t batch = 600,\t cost = 0.0103,\t accuracy = 1.0\n",
            "Epoch= 10,\t batch = 800,\t cost = 0.1728,\t accuracy = 0.96875\n",
            "Epoch= 10,\t batch = 1000,\t cost = 0.1886,\t accuracy = 0.96875\n",
            "Epoch= 10,\t batch = 1200,\t cost = 0.0123,\t accuracy = 1.0\n",
            "Epoch= 10,\t batch = 1400,\t cost = 0.0009,\t accuracy = 1.0\n",
            "Epoch= 10,\t batch = 1600,\t cost = 0.3797,\t accuracy = 0.96875\n",
            "Epoch= 10,\t batch = 1800,\t cost = 0.0142,\t accuracy = 1.0\n",
            "[Epoch:   10], averaged cost = 0.0361373238\n",
            "Epoch= 11,\t batch = 0,\t cost = 0.0389,\t accuracy = 0.96875\n",
            "Epoch= 11,\t batch = 200,\t cost = 0.0270,\t accuracy = 1.0\n",
            "Epoch= 11,\t batch = 400,\t cost = 0.0010,\t accuracy = 1.0\n",
            "Epoch= 11,\t batch = 600,\t cost = 0.0054,\t accuracy = 1.0\n",
            "Epoch= 11,\t batch = 800,\t cost = 0.0060,\t accuracy = 1.0\n",
            "Epoch= 11,\t batch = 1000,\t cost = 0.0006,\t accuracy = 1.0\n",
            "Epoch= 11,\t batch = 1200,\t cost = 0.0532,\t accuracy = 0.9375\n",
            "Epoch= 11,\t batch = 1400,\t cost = 0.0008,\t accuracy = 1.0\n",
            "Epoch= 11,\t batch = 1600,\t cost = 0.2807,\t accuracy = 0.96875\n",
            "Epoch= 11,\t batch = 1800,\t cost = 0.0012,\t accuracy = 1.0\n",
            "[Epoch:   11], averaged cost = 0.0337046459\n",
            "Epoch= 12,\t batch = 0,\t cost = 0.1803,\t accuracy = 0.9375\n",
            "Epoch= 12,\t batch = 200,\t cost = 0.0007,\t accuracy = 1.0\n",
            "Epoch= 12,\t batch = 400,\t cost = 0.0412,\t accuracy = 0.96875\n",
            "Epoch= 12,\t batch = 600,\t cost = 0.0036,\t accuracy = 1.0\n",
            "Epoch= 12,\t batch = 800,\t cost = 0.0039,\t accuracy = 1.0\n",
            "Epoch= 12,\t batch = 1000,\t cost = 0.0870,\t accuracy = 0.96875\n",
            "Epoch= 12,\t batch = 1200,\t cost = 0.0000,\t accuracy = 1.0\n",
            "Epoch= 12,\t batch = 1400,\t cost = 0.0007,\t accuracy = 1.0\n",
            "Epoch= 12,\t batch = 1600,\t cost = 0.0052,\t accuracy = 1.0\n",
            "Epoch= 12,\t batch = 1800,\t cost = 0.0035,\t accuracy = 1.0\n",
            "[Epoch:   12], averaged cost = 0.0323960446\n",
            "Epoch= 13,\t batch = 0,\t cost = 0.0000,\t accuracy = 1.0\n",
            "Epoch= 13,\t batch = 200,\t cost = 0.0007,\t accuracy = 1.0\n",
            "Epoch= 13,\t batch = 400,\t cost = 0.0001,\t accuracy = 1.0\n",
            "Epoch= 13,\t batch = 600,\t cost = 0.0356,\t accuracy = 0.96875\n",
            "Epoch= 13,\t batch = 800,\t cost = 0.0015,\t accuracy = 1.0\n",
            "Epoch= 13,\t batch = 1000,\t cost = 0.0251,\t accuracy = 1.0\n",
            "Epoch= 13,\t batch = 1200,\t cost = 0.0012,\t accuracy = 1.0\n",
            "Epoch= 13,\t batch = 1400,\t cost = 0.0090,\t accuracy = 1.0\n",
            "Epoch= 13,\t batch = 1600,\t cost = 0.0012,\t accuracy = 1.0\n",
            "Epoch= 13,\t batch = 1800,\t cost = 0.0005,\t accuracy = 1.0\n",
            "[Epoch:   13], averaged cost = 0.0313394591\n",
            "Epoch= 14,\t batch = 0,\t cost = 0.0002,\t accuracy = 1.0\n",
            "Epoch= 14,\t batch = 200,\t cost = 0.0011,\t accuracy = 1.0\n",
            "Epoch= 14,\t batch = 400,\t cost = 0.1567,\t accuracy = 0.9375\n",
            "Epoch= 14,\t batch = 600,\t cost = 0.0005,\t accuracy = 1.0\n",
            "Epoch= 14,\t batch = 800,\t cost = 0.0125,\t accuracy = 1.0\n",
            "Epoch= 14,\t batch = 1000,\t cost = 0.0576,\t accuracy = 0.96875\n",
            "Epoch= 14,\t batch = 1200,\t cost = 0.0005,\t accuracy = 1.0\n",
            "Epoch= 14,\t batch = 1400,\t cost = 0.2854,\t accuracy = 0.96875\n",
            "Epoch= 14,\t batch = 1600,\t cost = 0.0150,\t accuracy = 1.0\n",
            "Epoch= 14,\t batch = 1800,\t cost = 0.0035,\t accuracy = 1.0\n",
            "[Epoch:   14], averaged cost = 0.0307360031\n",
            "Epoch= 15,\t batch = 0,\t cost = 0.0018,\t accuracy = 1.0\n",
            "Epoch= 15,\t batch = 200,\t cost = 0.0004,\t accuracy = 1.0\n",
            "Epoch= 15,\t batch = 400,\t cost = 0.0000,\t accuracy = 1.0\n",
            "Epoch= 15,\t batch = 600,\t cost = 0.0003,\t accuracy = 1.0\n",
            "Epoch= 15,\t batch = 800,\t cost = 0.0009,\t accuracy = 1.0\n",
            "Epoch= 15,\t batch = 1000,\t cost = 0.0006,\t accuracy = 1.0\n",
            "Epoch= 15,\t batch = 1200,\t cost = 0.0001,\t accuracy = 1.0\n",
            "Epoch= 15,\t batch = 1400,\t cost = 0.0006,\t accuracy = 1.0\n",
            "Epoch= 15,\t batch = 1600,\t cost = 0.0013,\t accuracy = 1.0\n",
            "Epoch= 15,\t batch = 1800,\t cost = 0.0033,\t accuracy = 1.0\n",
            "[Epoch:   15], averaged cost = 0.0291967355\n",
            "Learning Finished!\n"
          ],
          "name": "stdout"
        }
      ]
    },
    {
      "cell_type": "code",
      "metadata": {
        "id": "ww0ufFfqAGLt",
        "colab_type": "code",
        "colab": {}
      },
      "source": [
        ""
      ],
      "execution_count": 0,
      "outputs": []
    }
  ]
}
